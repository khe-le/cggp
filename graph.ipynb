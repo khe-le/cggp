{
 "cells": [
  {
   "cell_type": "code",
   "execution_count": null,
   "metadata": {},
   "outputs": [],
   "source": [
    "import matplotlib.pyplot as plt\n",
    "\n",
    "f = open('Fitness.txt', 'r')\n",
    "DATA = list(f.read())\n",
    "N_GEN = 100000\n",
    "GRAPH_TITLE = 'Fitness of x + y - z'\n",
    "\n",
    "\n",
    "plt.scatter(N_GEN, DATA, cmap='Green', edgecolor = 'black', linewidth = 1, alpha=0.75)  #data on the y axis\n",
    "plt.title(GRAPH_TITLE)\n",
    "plt.xlabel(\"Generation\")\n",
    "plt.ylabel(\"Fitness Score\")\n",
    "plt.show()\n",
    "#print(DATA)"
   ]
  }
 ],
 "metadata": {
  "kernelspec": {
   "display_name": "Python 3",
   "language": "python",
   "name": "python3"
  },
  "language_info": {
   "name": "python",
   "version": "3.9.0"
  },
  "orig_nbformat": 4
 },
 "nbformat": 4,
 "nbformat_minor": 2
}
